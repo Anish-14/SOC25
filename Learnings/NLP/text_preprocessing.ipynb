{
 "cells": [
  {
   "cell_type": "code",
   "execution_count": 15,
   "id": "e80b3861",
   "metadata": {},
   "outputs": [],
   "source": [
    "import pandas as pd\n",
    "import re"
   ]
  },
  {
   "cell_type": "code",
   "execution_count": 16,
   "id": "d96fd7b7",
   "metadata": {},
   "outputs": [],
   "source": [
    "df = pd.read_csv(\"IMDB Dataset.csv\")\n"
   ]
  },
  {
   "cell_type": "code",
   "execution_count": 17,
   "id": "b8aa3819",
   "metadata": {},
   "outputs": [
    {
     "data": {
      "text/plain": [
       "(50000, 2)"
      ]
     },
     "execution_count": 17,
     "metadata": {},
     "output_type": "execute_result"
    }
   ],
   "source": [
    "df.shape"
   ]
  },
  {
   "cell_type": "code",
   "execution_count": 18,
   "id": "67767d8c",
   "metadata": {},
   "outputs": [
    {
     "data": {
      "text/html": [
       "<div>\n",
       "<style scoped>\n",
       "    .dataframe tbody tr th:only-of-type {\n",
       "        vertical-align: middle;\n",
       "    }\n",
       "\n",
       "    .dataframe tbody tr th {\n",
       "        vertical-align: top;\n",
       "    }\n",
       "\n",
       "    .dataframe thead th {\n",
       "        text-align: right;\n",
       "    }\n",
       "</style>\n",
       "<table border=\"1\" class=\"dataframe\">\n",
       "  <thead>\n",
       "    <tr style=\"text-align: right;\">\n",
       "      <th></th>\n",
       "      <th>review</th>\n",
       "      <th>sentiment</th>\n",
       "    </tr>\n",
       "  </thead>\n",
       "  <tbody>\n",
       "    <tr>\n",
       "      <th>0</th>\n",
       "      <td>One of the other reviewers has mentioned that ...</td>\n",
       "      <td>positive</td>\n",
       "    </tr>\n",
       "    <tr>\n",
       "      <th>1</th>\n",
       "      <td>A wonderful little production. &lt;br /&gt;&lt;br /&gt;The...</td>\n",
       "      <td>positive</td>\n",
       "    </tr>\n",
       "    <tr>\n",
       "      <th>2</th>\n",
       "      <td>I thought this was a wonderful way to spend ti...</td>\n",
       "      <td>positive</td>\n",
       "    </tr>\n",
       "    <tr>\n",
       "      <th>3</th>\n",
       "      <td>Basically there's a family where a little boy ...</td>\n",
       "      <td>negative</td>\n",
       "    </tr>\n",
       "    <tr>\n",
       "      <th>4</th>\n",
       "      <td>Petter Mattei's \"Love in the Time of Money\" is...</td>\n",
       "      <td>positive</td>\n",
       "    </tr>\n",
       "  </tbody>\n",
       "</table>\n",
       "</div>"
      ],
      "text/plain": [
       "                                              review sentiment\n",
       "0  One of the other reviewers has mentioned that ...  positive\n",
       "1  A wonderful little production. <br /><br />The...  positive\n",
       "2  I thought this was a wonderful way to spend ti...  positive\n",
       "3  Basically there's a family where a little boy ...  negative\n",
       "4  Petter Mattei's \"Love in the Time of Money\" is...  positive"
      ]
     },
     "execution_count": 18,
     "metadata": {},
     "output_type": "execute_result"
    }
   ],
   "source": [
    "df.head()"
   ]
  },
  {
   "cell_type": "markdown",
   "id": "435fbd0d",
   "metadata": {},
   "source": [
    "Lowercasing"
   ]
  },
  {
   "cell_type": "code",
   "execution_count": 19,
   "id": "20965f40",
   "metadata": {},
   "outputs": [
    {
     "data": {
      "text/plain": [
       "\"basically there's a family where a little boy (jake) thinks there's a zombie in his closet & his parents are fighting all the time.<br /><br />this movie is slower than a soap opera... and suddenly, jake decides to become rambo and kill the zombie.<br /><br />ok, first of all when you're going to make a film you must decide if its a thriller or a drama! as a drama the movie is watchable. parents are divorcing & arguing like in real life. and then we have jake with his closet which totally ruins all the film! i expected to see a boogeyman similar movie, and instead i watched a drama with some meaningless thriller spots.<br /><br />3 out of 10 just for the well playing parents & descent dialogs. as for the shots with jake: just ignore them.\""
      ]
     },
     "execution_count": 19,
     "metadata": {},
     "output_type": "execute_result"
    }
   ],
   "source": [
    "# particular cell\n",
    "df['review'][3].lower()"
   ]
  },
  {
   "cell_type": "code",
   "execution_count": 20,
   "id": "e8d6a582",
   "metadata": {},
   "outputs": [
    {
     "data": {
      "text/plain": [
       "0        one of the other reviewers has mentioned that ...\n",
       "1        a wonderful little production. <br /><br />the...\n",
       "2        i thought this was a wonderful way to spend ti...\n",
       "3        basically there's a family where a little boy ...\n",
       "4        petter mattei's \"love in the time of money\" is...\n",
       "                               ...                        \n",
       "49995    i thought this movie did a down right good job...\n",
       "49996    bad plot, bad dialogue, bad acting, idiotic di...\n",
       "49997    i am a catholic taught in parochial elementary...\n",
       "49998    i'm going to have to disagree with the previou...\n",
       "49999    no one expects the star trek movies to be high...\n",
       "Name: review, Length: 50000, dtype: object"
      ]
     },
     "execution_count": 20,
     "metadata": {},
     "output_type": "execute_result"
    }
   ],
   "source": [
    "# whole colum\n",
    "df['review'].str.lower()"
   ]
  },
  {
   "cell_type": "markdown",
   "id": "ebafed1c",
   "metadata": {},
   "source": [
    "Remove HTML tags"
   ]
  },
  {
   "cell_type": "code",
   "execution_count": 21,
   "id": "bab8459b",
   "metadata": {},
   "outputs": [],
   "source": [
    "# function for removing the HTML tags\n",
    "def striphtml(data):\n",
    "    p = re.compile(r'<.*?>')\n",
    "    return p.sub('',data)"
   ]
  },
  {
   "cell_type": "markdown",
   "id": "cd105fc3",
   "metadata": {},
   "source": [
    "we have to assign it back to permanently apply the preprocessing steps\n",
    "\n",
    "df['review'] = df['review'].apply(striphtml)"
   ]
  },
  {
   "cell_type": "code",
   "execution_count": 48,
   "id": "200d3953",
   "metadata": {},
   "outputs": [
    {
     "data": {
      "text/plain": [
       "0        One of the other reviewers has mentioned that ...\n",
       "1        A wonderful little production. The filming tec...\n",
       "2        I thought this was a wonderful way to spend ti...\n",
       "3        Basically there's a family where a little boy ...\n",
       "4        Petter Mattei's \"Love in the Time of Money\" is...\n",
       "                               ...                        \n",
       "49995    I thought this movie did a down right good job...\n",
       "49996    Bad plot, bad dialogue, bad acting, idiotic di...\n",
       "49997    I am a Catholic taught in parochial elementary...\n",
       "49998    I'm going to have to disagree with the previou...\n",
       "49999    No one expects the Star Trek movies to be high...\n",
       "Name: review, Length: 50000, dtype: object"
      ]
     },
     "execution_count": 48,
     "metadata": {},
     "output_type": "execute_result"
    }
   ],
   "source": [
    "df['review'].apply(striphtml)"
   ]
  },
  {
   "cell_type": "code",
   "execution_count": 46,
   "id": "cc73cbb2",
   "metadata": {},
   "outputs": [
    {
     "data": {
      "text/plain": [
       "0        One of the other reviewers has mentioned that ...\n",
       "1        A wonderful little production. <br /><br />The...\n",
       "2        I thought this was a wonderful way to spend ti...\n",
       "3        Basically there's a family where a little boy ...\n",
       "4        Petter Mattei's \"Love in the Time of Money\" is...\n",
       "                               ...                        \n",
       "49995    I thought this movie did a down right good job...\n",
       "49996    Bad plot, bad dialogue, bad acting, idiotic di...\n",
       "49997    I am a Catholic taught in parochial elementary...\n",
       "49998    I'm going to have to disagree with the previou...\n",
       "49999    No one expects the Star Trek movies to be high...\n",
       "Name: review, Length: 50000, dtype: object"
      ]
     },
     "execution_count": 46,
     "metadata": {},
     "output_type": "execute_result"
    }
   ],
   "source": [
    "df['review']"
   ]
  },
  {
   "cell_type": "markdown",
   "id": "bb1a52d6",
   "metadata": {},
   "source": [
    "Remove URLs"
   ]
  },
  {
   "cell_type": "code",
   "execution_count": 23,
   "id": "094377b1",
   "metadata": {},
   "outputs": [],
   "source": [
    "def remove_url(text):\n",
    "    pattern = re.compile(r'https?://\\S+|www\\.\\S+')\n",
    "    return pattern.sub(r'', text)"
   ]
  },
  {
   "cell_type": "code",
   "execution_count": 24,
   "id": "c0f74da3",
   "metadata": {},
   "outputs": [
    {
     "data": {
      "text/plain": [
       "0        One of the other reviewers has mentioned that ...\n",
       "1        A wonderful little production. <br /><br />The...\n",
       "2        I thought this was a wonderful way to spend ti...\n",
       "3        Basically there's a family where a little boy ...\n",
       "4        Petter Mattei's \"Love in the Time of Money\" is...\n",
       "                               ...                        \n",
       "49995    I thought this movie did a down right good job...\n",
       "49996    Bad plot, bad dialogue, bad acting, idiotic di...\n",
       "49997    I am a Catholic taught in parochial elementary...\n",
       "49998    I'm going to have to disagree with the previou...\n",
       "49999    No one expects the Star Trek movies to be high...\n",
       "Name: review, Length: 50000, dtype: object"
      ]
     },
     "execution_count": 24,
     "metadata": {},
     "output_type": "execute_result"
    }
   ],
   "source": [
    "df['review'].apply(remove_url)"
   ]
  },
  {
   "cell_type": "markdown",
   "id": "ab14249d",
   "metadata": {},
   "source": [
    "Remove Punctuation"
   ]
  },
  {
   "cell_type": "code",
   "execution_count": null,
   "id": "695e9e8d",
   "metadata": {},
   "outputs": [],
   "source": [
    "import string, time"
   ]
  },
  {
   "cell_type": "code",
   "execution_count": null,
   "id": "1bea1060",
   "metadata": {},
   "outputs": [
    {
     "data": {
      "text/plain": [
       "'!\"#$%&\\'()*+,-./:;<=>?@[\\\\]^_`{|}~'"
      ]
     },
     "execution_count": 27,
     "metadata": {},
     "output_type": "execute_result"
    }
   ],
   "source": [
    "# list of punctuations, we can remove any if we want\n",
    "string.punctuation"
   ]
  },
  {
   "cell_type": "code",
   "execution_count": 28,
   "id": "1c27d6cd",
   "metadata": {},
   "outputs": [],
   "source": [
    "exclude = string.punctuation"
   ]
  },
  {
   "cell_type": "code",
   "execution_count": null,
   "id": "65c4e1a4",
   "metadata": {},
   "outputs": [],
   "source": [
    "# this function is quite slow so we won't be using this for removing punctuation\n",
    "\n",
    "def remove_punc(text):\n",
    "    for char in exclude:\n",
    "        text = text.replace(char, '')\n",
    "    return text"
   ]
  },
  {
   "cell_type": "code",
   "execution_count": 30,
   "id": "9e2011de",
   "metadata": {},
   "outputs": [],
   "source": [
    "text = \"string. with. punctuation?\""
   ]
  },
  {
   "cell_type": "code",
   "execution_count": null,
   "id": "12291da5",
   "metadata": {},
   "outputs": [
    {
     "name": "stdout",
     "output_type": "stream",
     "text": [
      "string with punctuation\n",
      "0.00013518333435058594\n"
     ]
    }
   ],
   "source": [
    "# we can see the time required, but it can become large for large data files \n",
    "start = time.time()\n",
    "print(remove_punc(text))\n",
    "time1 = time.time() - start\n",
    "print(time1)"
   ]
  },
  {
   "cell_type": "code",
   "execution_count": null,
   "id": "ae47002c",
   "metadata": {},
   "outputs": [],
   "source": [
    "# So we'll use an alternate method to remove the punctuations from the data set\n",
    "# this method is 18 times faster then the previous one\n",
    "\n",
    "def remove_punc1(text):\n",
    "    return text.translate(str.maketrans('', '', exclude))"
   ]
  },
  {
   "cell_type": "code",
   "execution_count": 36,
   "id": "a1fef2dd",
   "metadata": {},
   "outputs": [
    {
     "data": {
      "text/plain": [
       "0        One of the other reviewers has mentioned that ...\n",
       "1        A wonderful little production br br The filmin...\n",
       "2        I thought this was a wonderful way to spend ti...\n",
       "3        Basically theres a family where a little boy J...\n",
       "4        Petter Matteis Love in the Time of Money is a ...\n",
       "                               ...                        \n",
       "49995    I thought this movie did a down right good job...\n",
       "49996    Bad plot bad dialogue bad acting idiotic direc...\n",
       "49997    I am a Catholic taught in parochial elementary...\n",
       "49998    Im going to have to disagree with the previous...\n",
       "49999    No one expects the Star Trek movies to be high...\n",
       "Name: review, Length: 50000, dtype: object"
      ]
     },
     "execution_count": 36,
     "metadata": {},
     "output_type": "execute_result"
    }
   ],
   "source": [
    "df['review'].apply(remove_punc1)"
   ]
  },
  {
   "cell_type": "markdown",
   "id": "35ec8bae",
   "metadata": {},
   "source": [
    "chat word treatment, we can write the full form of common used abbrevations"
   ]
  },
  {
   "cell_type": "code",
   "execution_count": 43,
   "id": "a92dc0a7",
   "metadata": {},
   "outputs": [],
   "source": [
    "# I found this data online\n",
    "\n",
    "chat_abbreviations = {\n",
    "    \"LOL\": \"Laughing Out Loud\",\n",
    "    \"BRB\": \"Be Right Back\",\n",
    "    \"BTW\": \"By The Way\",\n",
    "    \"IDK\": \"I Don't Know\",\n",
    "    \"IMO\": \"In My Opinion\",\n",
    "    \"IMHO\": \"In My Humble Opinion\",\n",
    "    \"TTYL\": \"Talk To You Later\",\n",
    "    \"FYI\": \"For Your Information\",\n",
    "    \"OMG\": \"Oh My God\",\n",
    "    \"BFF\": \"Best Friends Forever\",\n",
    "    \"GTG\": \"Got To Go\",\n",
    "    \"G2G\": \"Got To Go\",\n",
    "    \"LMAO\": \"Laughing My A** Off\",\n",
    "    \"ROFL\": \"Rolling On the Floor Laughing\",\n",
    "    \"SMH\": \"Shaking My Head\",\n",
    "    \"TBH\": \"To Be Honest\",\n",
    "    \"NP\": \"No Problem\",\n",
    "    \"DM\": \"Direct Message\",\n",
    "    \"TY\": \"Thank You\",\n",
    "    \"THX\": \"Thanks\",\n",
    "    \"NVM\": \"Never Mind\",\n",
    "    \"OMW\": \"On My Way\",\n",
    "    \"AFK\": \"Away From Keyboard\",\n",
    "    \"TMI\": \"Too Much Information\",\n",
    "    \"YOLO\": \"You Only Live Once\",\n",
    "    \"FOMO\": \"Fear Of Missing Out\",\n",
    "    \"IDC\": \"I Don't Care\",\n",
    "    \"IKR\": \"I Know, Right?\",\n",
    "    \"BAE\": \"Before Anyone Else\",\n",
    "    \"ASAP\": \"As Soon As Possible\",\n",
    "    \"JK\": \"Just Kidding\"\n",
    "}"
   ]
  },
  {
   "cell_type": "code",
   "execution_count": 41,
   "id": "743cb025",
   "metadata": {},
   "outputs": [],
   "source": [
    "def chat_conversation(text):\n",
    "    new_text = []\n",
    "    for w in text.split():\n",
    "        if w.upper() in chat_abbreviations:\n",
    "            new_text.append(chat_abbreviations[w.upper()])\n",
    "        else:\n",
    "            new_text.append(w)\n",
    "    \n",
    "    return \" \".join(new_text)"
   ]
  },
  {
   "cell_type": "code",
   "execution_count": 42,
   "id": "ec9558a5",
   "metadata": {},
   "outputs": [
    {
     "data": {
      "text/plain": [
       "\"Just Kidding I know I Don't Care As Soon As Possible\""
      ]
     },
     "execution_count": 42,
     "metadata": {},
     "output_type": "execute_result"
    }
   ],
   "source": [
    "chat_conversation(\"JK I know IDC ASAP\")"
   ]
  },
  {
   "cell_type": "code",
   "execution_count": 44,
   "id": "34efb6f7",
   "metadata": {},
   "outputs": [
    {
     "data": {
      "text/plain": [
       "0        One of the other reviewers has mentioned that ...\n",
       "1        A wonderful little production. <br /><br />The...\n",
       "2        I thought this was a wonderful way to spend ti...\n",
       "3        Basically there's a family where a little boy ...\n",
       "4        Petter Mattei's \"Love in the Time of Money\" is...\n",
       "                               ...                        \n",
       "49995    I thought this movie did a down right good job...\n",
       "49996    Bad plot, bad dialogue, bad acting, idiotic di...\n",
       "49997    I am a Catholic taught in parochial elementary...\n",
       "49998    I'm going to have to disagree with the previou...\n",
       "49999    No one expects the Star Trek movies to be high...\n",
       "Name: review, Length: 50000, dtype: object"
      ]
     },
     "execution_count": 44,
     "metadata": {},
     "output_type": "execute_result"
    }
   ],
   "source": [
    "df['review'].apply(chat_conversation)"
   ]
  },
  {
   "cell_type": "markdown",
   "id": "b7b9cd81",
   "metadata": {},
   "source": [
    "Correcting Spelling mistakes"
   ]
  },
  {
   "cell_type": "code",
   "execution_count": 49,
   "id": "ec730c8a",
   "metadata": {},
   "outputs": [
    {
     "name": "stderr",
     "output_type": "stream",
     "text": [
      "/Library/Frameworks/Python.framework/Versions/3.12/lib/python3.12/site-packages/nltk/metrics/association.py:26: UserWarning: A NumPy version >=1.22.4 and <2.3.0 is required for this version of SciPy (detected version 2.3.1)\n",
      "  from scipy.stats import fisher_exact\n"
     ]
    }
   ],
   "source": [
    "from textblob import TextBlob"
   ]
  },
  {
   "cell_type": "code",
   "execution_count": null,
   "id": "62099566",
   "metadata": {},
   "outputs": [],
   "source": [
    "# we can use the following code for it, but I am commenting it because it is taking time to run\n",
    "\n",
    "# df['review'].apply(lambda x: str(TextBlob(x).correct()))\n"
   ]
  },
  {
   "cell_type": "markdown",
   "id": "03c016eb",
   "metadata": {},
   "source": [
    "Stemming (getting first form of the verb)"
   ]
  },
  {
   "cell_type": "code",
   "execution_count": 54,
   "id": "cba9ebf1",
   "metadata": {},
   "outputs": [],
   "source": [
    "import nltk\n",
    "from nltk.stem.porter import PorterStemmer"
   ]
  },
  {
   "cell_type": "code",
   "execution_count": 57,
   "id": "56b41af4",
   "metadata": {},
   "outputs": [],
   "source": [
    "ps = PorterStemmer()\n",
    "def stem_words(text):\n",
    "    return \" \".join([ps.stem(word) for word in text.split()])"
   ]
  },
  {
   "cell_type": "code",
   "execution_count": 58,
   "id": "415c1cea",
   "metadata": {},
   "outputs": [
    {
     "data": {
      "text/plain": [
       "'walk walk walk walk'"
      ]
     },
     "execution_count": 58,
     "metadata": {},
     "output_type": "execute_result"
    }
   ],
   "source": [
    "sample = \"walk walk walking walked\"\n",
    "stem_words(sample)"
   ]
  },
  {
   "cell_type": "markdown",
   "id": "25c53dcc",
   "metadata": {},
   "source": [
    "Lemmatization"
   ]
  },
  {
   "cell_type": "code",
   "execution_count": 74,
   "id": "ba648357",
   "metadata": {},
   "outputs": [
    {
     "name": "stdout",
     "output_type": "stream",
     "text": [
      "Words: ['He', 'was', 'running', 'to', 'save', 'his', 'life', 'and', 'then', 'He', 'met', 'with', 'someone', 'very', 'dangerouns', 'who', 'could', 'even', 'kill', 'him']\n"
     ]
    }
   ],
   "source": [
    "# tokenizing word using spacy\n",
    "\n",
    "import spacy\n",
    "\n",
    "nlp = spacy.load(\"en_core_web_sm\")\n",
    "\n",
    "text = \"He was running to save his life and then He met with someone very dangerouns who could even kill him\"\n",
    "doc = nlp(text)\n",
    "\n",
    "words = [token.text for token in doc if not token.is_space]\n",
    "print(\"Words:\", words)"
   ]
  },
  {
   "cell_type": "code",
   "execution_count": 76,
   "id": "9fa8db77",
   "metadata": {},
   "outputs": [
    {
     "name": "stdout",
     "output_type": "stream",
     "text": [
      "['he', 'be', 'run', 'to', 'save', 'his', 'life', 'and', 'then', 'he', 'meet', 'with', 'someone', 'very', 'dangeroun', 'who', 'could', 'even', 'kill', 'he']\n"
     ]
    }
   ],
   "source": [
    "# performing lemmatization \n",
    "\n",
    "import spacy\n",
    "nlp = spacy.load(\"en_core_web_sm\")\n",
    "\n",
    "doc = nlp(text)\n",
    "lemmatized = [token.lemma_ for token in doc]\n",
    "print(lemmatized)"
   ]
  },
  {
   "cell_type": "code",
   "execution_count": null,
   "id": "2d9a7b4b",
   "metadata": {},
   "outputs": [],
   "source": []
  },
  {
   "cell_type": "code",
   "execution_count": null,
   "id": "e3717368",
   "metadata": {},
   "outputs": [],
   "source": []
  },
  {
   "cell_type": "code",
   "execution_count": null,
   "id": "c0cb125e",
   "metadata": {},
   "outputs": [],
   "source": []
  }
 ],
 "metadata": {
  "kernelspec": {
   "display_name": "Python 3",
   "language": "python",
   "name": "python3"
  },
  "language_info": {
   "codemirror_mode": {
    "name": "ipython",
    "version": 3
   },
   "file_extension": ".py",
   "mimetype": "text/x-python",
   "name": "python",
   "nbconvert_exporter": "python",
   "pygments_lexer": "ipython3",
   "version": "3.12.3"
  }
 },
 "nbformat": 4,
 "nbformat_minor": 5
}
