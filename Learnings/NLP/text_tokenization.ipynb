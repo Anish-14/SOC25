{
 "cells": [
  {
   "cell_type": "markdown",
   "id": "3974babc",
   "metadata": {},
   "source": [
    "Tokenization"
   ]
  },
  {
   "cell_type": "markdown",
   "id": "a8e6a904",
   "metadata": {},
   "source": [
    "Sentence tokenization"
   ]
  },
  {
   "cell_type": "code",
   "execution_count": 1,
   "id": "8f8cb41f",
   "metadata": {},
   "outputs": [],
   "source": [
    "dummy = \"\"\"I  was walkin to the markit yestarday when I relized I had forget my phone at home. It was realy frustating coz I needed it to chek the shoping list. Anyways, I kept goin and baught sum vegitabels and bred, but they didnt had the chese I wanted. The cashier was kinda rude and dint even say thank u. I came back home feelin tired and disapointed, but atleast I got most of the stuffs. Tommorow I’ll try a diffrent store, hopfully they’ll have better servise. \"\"\""
   ]
  },
  {
   "cell_type": "code",
   "execution_count": 2,
   "id": "14819998",
   "metadata": {},
   "outputs": [
    {
     "data": {
      "text/plain": [
       "'I  was walkin to the markit yestarday when I relized I had forget my phone at home. It was realy frustating coz I needed it to chek the shoping list. Anyways, I kept goin and baught sum vegitabels and bred, but they didnt had the chese I wanted. The cashier was kinda rude and dint even say thank u. I came back home feelin tired and disapointed, but atleast I got most of the stuffs. Tommorow I’ll try a diffrent store, hopfully they’ll have better servise. '"
      ]
     },
     "execution_count": 2,
     "metadata": {},
     "output_type": "execute_result"
    }
   ],
   "source": [
    "dummy"
   ]
  },
  {
   "cell_type": "code",
   "execution_count": null,
   "id": "09268575",
   "metadata": {},
   "outputs": [],
   "source": [
    "pip install spacy\n"
   ]
  },
  {
   "cell_type": "code",
   "execution_count": null,
   "id": "1b7de954",
   "metadata": {},
   "outputs": [
    {
     "name": "stdout",
     "output_type": "stream",
     "text": [
      "['I  was walkin to the markit yestarday when I relized I had forget my phone at home.', 'It was realy frustating coz', 'I needed it to chek the shoping list.', 'Anyways, I kept goin and baught sum vegitabels and bred, but they didnt had the chese I wanted.', 'The cashier was kinda rude and dint even say thank u.', 'I came back home feelin tired and disapointed, but atleast I got most of the stuffs.', 'Tommorow I’ll try a diffrent store, hopfully they’ll have better servise.']\n"
     ]
    }
   ],
   "source": [
    "import spacy\n",
    "\n",
    "nlp = spacy.load(\"en_core_web_sm\")\n",
    "\n",
    "text = \"This is a sentense. And here is another one!\"\n",
    "doc = nlp(dummy)\n",
    "\n",
    "sentences = [sent.text for sent in doc.sents]\n",
    "print(sentences)"
   ]
  },
  {
   "cell_type": "code",
   "execution_count": 33,
   "id": "fdf25421",
   "metadata": {},
   "outputs": [
    {
     "name": "stdout",
     "output_type": "stream",
     "text": [
      "Words: ['I', 'was', 'walkin', 'to', 'the', 'markit', 'yestarday', 'when', 'I', 'relized', 'I', 'had', 'forget', 'my', 'phone', 'at', 'home', '.', 'It', 'was', 'realy', 'frustating', 'coz', 'I', 'needed', 'it', 'to', 'chek', 'the', 'shoping', 'list', '.', 'Anyways', ',', 'I', 'kept', 'goin', 'and', 'baught', 'sum', 'vegitabels', 'and', 'bred', ',', 'but', 'they', 'did', 'nt', 'had', 'the', 'chese', 'I', 'wanted', '.', 'The', 'cashier', 'was', 'kinda', 'rude', 'and', 'dint', 'even', 'say', 'thank', 'u.', 'I', 'came', 'back', 'home', 'feelin', 'tired', 'and', 'disapointed', ',', 'but', 'atleast', 'I', 'got', 'most', 'of', 'the', 'stuffs', '.', 'Tommorow', 'I', '’ll', 'try', 'a', 'diffrent', 'store', ',', 'hopfully', 'they', '’ll', 'have', 'better', 'servise', '.']\n"
     ]
    }
   ],
   "source": [
    "words = [token.text for token in doc if not token.is_space]\n",
    "print(\"Words:\", words)"
   ]
  },
  {
   "cell_type": "code",
   "execution_count": null,
   "id": "5ebe509e",
   "metadata": {},
   "outputs": [],
   "source": []
  },
  {
   "cell_type": "code",
   "execution_count": null,
   "id": "6065330f",
   "metadata": {},
   "outputs": [],
   "source": []
  }
 ],
 "metadata": {
  "kernelspec": {
   "display_name": "Python 3",
   "language": "python",
   "name": "python3"
  },
  "language_info": {
   "codemirror_mode": {
    "name": "ipython",
    "version": 3
   },
   "file_extension": ".py",
   "mimetype": "text/x-python",
   "name": "python",
   "nbconvert_exporter": "python",
   "pygments_lexer": "ipython3",
   "version": "3.12.3"
  }
 },
 "nbformat": 4,
 "nbformat_minor": 5
}
