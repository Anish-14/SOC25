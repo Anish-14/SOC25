{
 "cells": [
  {
   "cell_type": "markdown",
   "id": "43ef2985",
   "metadata": {},
   "source": [
    "Removing HTML tags\n"
   ]
  },
  {
   "cell_type": "code",
   "execution_count": 1,
   "id": "85d1681a",
   "metadata": {},
   "outputs": [],
   "source": [
    "import re"
   ]
  },
  {
   "cell_type": "code",
   "execution_count": null,
   "id": "4f3fd255",
   "metadata": {},
   "outputs": [
    {
     "data": {
      "text/plain": [
       "'In this example we demonstrates various text formatting tags: <strong> for important and bold text, <em> for emphasized and italic text, <b> for bold text, <i> for italic text, and <mark> for highlighted text. This text is important and bold. This text is emphasized and italic'"
      ]
     },
     "execution_count": 3,
     "metadata": {},
     "output_type": "execute_result"
    }
   ],
   "source": [
    "# text containing HTML tags\n",
    "sample_text = 'In this example we demonstrates various text formatting tags: <strong> for important and bold text, <em> for emphasized and italic text, <b> for bold text, <i> for italic text, and <mark> for highlighted text. This text is important and bold. This text is emphasized and italic'\n",
    "\n",
    "sample_text"
   ]
  },
  {
   "cell_type": "code",
   "execution_count": null,
   "id": "f6bea7ae",
   "metadata": {},
   "outputs": [],
   "source": [
    "# function for removing the HTML tags\n",
    "def striphtml(data):\n",
    "    p = re.compile(r'<.*?>')\n",
    "    return p.sub('',data)"
   ]
  },
  {
   "cell_type": "code",
   "execution_count": 5,
   "id": "10ea2810",
   "metadata": {},
   "outputs": [
    {
     "data": {
      "text/plain": [
       "'In this example we demonstrates various text formatting tags:  for important and bold text,  for emphasized and italic text,  for bold text,  for italic text, and  for highlighted text. This text is important and bold. This text is emphasized and italic'"
      ]
     },
     "execution_count": 5,
     "metadata": {},
     "output_type": "execute_result"
    }
   ],
   "source": [
    "striphtml(sample_text)"
   ]
  },
  {
   "cell_type": "markdown",
   "id": "f545467e",
   "metadata": {},
   "source": [
    "Unicode Normalization (converting emojis into machine understandable language)"
   ]
  },
  {
   "cell_type": "code",
   "execution_count": 6,
   "id": "5eff6d5a",
   "metadata": {},
   "outputs": [],
   "source": [
    "emoji_text = \"\"\"Hiiiii!!!! 🤪🤪 I'm soooo exciteddd to be HERE!!! 😂🎉  \n",
    "btw, did u knw that 55% of peepz 🤓 dnt evn read Terms & Condishuns? 😬 lol smh...\n",
    "\n",
    "🔥🔥🔥 Deals!!! Only 4 today 👉👉👉 $19.99!!!  \n",
    "OMG 😱 this is LIT af!!! 💯💯💯  \n",
    "\n",
    "follow me @crazy_CatLover123 on insta 📸 or txt me at 999-888-1234 😉😉  \n",
    "P.S. i HATE mondays 😩😩 but coffee makes it BETTER ☕☕☕ yaaasssss!!!\n",
    "\n",
    "-- xoxo ❤️❤️ #blessed #MondayMotivation 💪\"\"\""
   ]
  },
  {
   "cell_type": "code",
   "execution_count": 7,
   "id": "227a6f10",
   "metadata": {},
   "outputs": [
    {
     "data": {
      "text/plain": [
       "\"Hiiiii!!!! 🤪🤪 I'm soooo exciteddd to be HERE!!! 😂🎉  \\nbtw, did u knw that 55% of peepz 🤓 dnt evn read Terms & Condishuns? 😬 lol smh...\\n\\n🔥🔥🔥 Deals!!! Only 4 today 👉👉👉 $19.99!!!  \\nOMG 😱 this is LIT af!!! 💯💯💯  \\n\\nfollow me @crazy_CatLover123 on insta 📸 or txt me at 999-888-1234 😉😉  \\nP.S. i HATE mondays 😩😩 but coffee makes it BETTER ☕☕☕ yaaasssss!!!\\n\\n-- xoxo ❤️❤️ #blessed #MondayMotivation 💪\""
      ]
     },
     "execution_count": 7,
     "metadata": {},
     "output_type": "execute_result"
    }
   ],
   "source": [
    "emoji_text"
   ]
  },
  {
   "cell_type": "code",
   "execution_count": null,
   "id": "40e71103",
   "metadata": {},
   "outputs": [
    {
     "data": {
      "text/plain": [
       "b\"Hiiiii!!!! \\xf0\\x9f\\xa4\\xaa\\xf0\\x9f\\xa4\\xaa I'm soooo exciteddd to be HERE!!! \\xf0\\x9f\\x98\\x82\\xf0\\x9f\\x8e\\x89  \\nbtw, did u knw that 55% of peepz \\xf0\\x9f\\xa4\\x93 dnt evn read Terms & Condishuns? \\xf0\\x9f\\x98\\xac lol smh...\\n\\n\\xf0\\x9f\\x94\\xa5\\xf0\\x9f\\x94\\xa5\\xf0\\x9f\\x94\\xa5 Deals!!! Only 4 today \\xf0\\x9f\\x91\\x89\\xf0\\x9f\\x91\\x89\\xf0\\x9f\\x91\\x89 $19.99!!!  \\nOMG \\xf0\\x9f\\x98\\xb1 this is LIT af!!! \\xf0\\x9f\\x92\\xaf\\xf0\\x9f\\x92\\xaf\\xf0\\x9f\\x92\\xaf  \\n\\nfollow me @crazy_CatLover123 on insta \\xf0\\x9f\\x93\\xb8 or txt me at 999-888-1234 \\xf0\\x9f\\x98\\x89\\xf0\\x9f\\x98\\x89  \\nP.S. i HATE mondays \\xf0\\x9f\\x98\\xa9\\xf0\\x9f\\x98\\xa9 but coffee makes it BETTER \\xe2\\x98\\x95\\xe2\\x98\\x95\\xe2\\x98\\x95 yaaasssss!!!\\n\\n-- xoxo \\xe2\\x9d\\xa4\\xef\\xb8\\x8f\\xe2\\x9d\\xa4\\xef\\xb8\\x8f #blessed #MondayMotivation \\xf0\\x9f\\x92\\xaa\""
      ]
     },
     "execution_count": 8,
     "metadata": {},
     "output_type": "execute_result"
    }
   ],
   "source": [
    "# .encode('utf-8) does this work for us\n",
    "emoji_text.encode('utf-8')"
   ]
  },
  {
   "cell_type": "markdown",
   "id": "f15fc42b",
   "metadata": {},
   "source": [
    "Spell checking\n"
   ]
  },
  {
   "cell_type": "code",
   "execution_count": 9,
   "id": "155d0ce0",
   "metadata": {},
   "outputs": [],
   "source": [
    "incorrect_text = \"\"\"The wether is relly nice today, I think I’ll go for a walkk.\n",
    "I hoppe their is no trafic on the rode.\"\"\""
   ]
  },
  {
   "cell_type": "code",
   "execution_count": 10,
   "id": "ecf6de93",
   "metadata": {},
   "outputs": [
    {
     "data": {
      "text/plain": [
       "'The wether is relly nice today, I think I’ll go for a walkk.\\nI hoppe their is no trafic on the rode.'"
      ]
     },
     "execution_count": 10,
     "metadata": {},
     "output_type": "execute_result"
    }
   ],
   "source": [
    "incorrect_text"
   ]
  },
  {
   "cell_type": "code",
   "execution_count": null,
   "id": "45afb1d6",
   "metadata": {},
   "outputs": [],
   "source": [
    "pip install textblob"
   ]
  },
  {
   "cell_type": "code",
   "execution_count": 15,
   "id": "32b8f4d2",
   "metadata": {},
   "outputs": [],
   "source": [
    "from textblob import TextBlob"
   ]
  },
  {
   "cell_type": "code",
   "execution_count": 19,
   "id": "caca57e0",
   "metadata": {},
   "outputs": [
    {
     "data": {
      "text/plain": [
       "TextBlob(\"The whether is really nice today, I think I’ll go for a walk.\n",
       "I hope their is no traffic on the rode.\")"
      ]
     },
     "execution_count": 19,
     "metadata": {},
     "output_type": "execute_result"
    }
   ],
   "source": [
    "new_text = TextBlob(incorrect_text)\n",
    "new_text.correct()"
   ]
  }
 ],
 "metadata": {
  "kernelspec": {
   "display_name": "Python 3",
   "language": "python",
   "name": "python3"
  },
  "language_info": {
   "codemirror_mode": {
    "name": "ipython",
    "version": 3
   },
   "file_extension": ".py",
   "mimetype": "text/x-python",
   "name": "python",
   "nbconvert_exporter": "python",
   "pygments_lexer": "ipython3",
   "version": "3.12.3"
  }
 },
 "nbformat": 4,
 "nbformat_minor": 5
}
